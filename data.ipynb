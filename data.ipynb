{
 "cells": [
  {
   "cell_type": "markdown",
   "id": "606e0532-bbd9-4e45-b0c7-3f89245146bb",
   "metadata": {},
   "source": [
    "# Data Collecting"
   ]
  },
  {
   "cell_type": "code",
   "execution_count": null,
   "id": "2bd77a91-a7bb-48a3-9606-2ac726025597",
   "metadata": {},
   "outputs": [],
   "source": [
    "import os\n",
    "import shutil\n",
    "import requests\n",
    "import kagglehub\n",
    "\n",
    "from tqdm import tqdm\n",
    "from zipfile import ZipFile\n",
    "from torchvision import datasets\n",
    "from torchvision import transforms"
   ]
  },
  {
   "cell_type": "code",
   "execution_count": null,
   "id": "3c4e20b9-64d5-4b77-9375-a4890991f1d1",
   "metadata": {},
   "outputs": [],
   "source": [
    "os.makedirs(\"data\", exist_ok=True)"
   ]
  },
  {
   "cell_type": "markdown",
   "id": "6f7262a1-1e34-498a-a33e-5af3a30a3b83",
   "metadata": {},
   "source": [
    "## COCO"
   ]
  },
  {
   "cell_type": "markdown",
   "id": "98c11ade-2164-4e3e-be3a-df1f7d3f5ecb",
   "metadata": {},
   "source": [
    "## https://cocodataset.org"
   ]
  },
  {
   "cell_type": "code",
   "execution_count": null,
   "id": "baee9922-3dc2-4929-bffe-cbc032991ce9",
   "metadata": {
    "jupyter": {
     "source_hidden": true
    }
   },
   "outputs": [],
   "source": [
    "def download_and_extract(url, extract_path):\n",
    "    os.makedirs(extract_path, exist_ok=True)\n",
    "    zip_path = os.path.join(extract_path, \"temp.zip\")\n",
    "    \n",
    "    # Download\n",
    "    print(f\"Download: {url}\")\n",
    "    response = requests.get(url, stream=True)\n",
    "    with open(zip_path, \"wb\") as f:\n",
    "        for chunk in response.iter_content(chunk_size=1024):\n",
    "            f.write(chunk)\n",
    "    \n",
    "    # Extract\n",
    "    with ZipFile(zip_path, 'r') as zip_ref:\n",
    "        zip_ref.extractall(extract_path)\n",
    "    \n",
    "    os.remove(zip_path)\n",
    "    print(f\"Complete! Extracted all files: {extract_path}\")"
   ]
  },
  {
   "cell_type": "code",
   "execution_count": null,
   "id": "2719a498-884c-40bd-a7ab-343e9123af79",
   "metadata": {
    "jupyter": {
     "source_hidden": true
    }
   },
   "outputs": [],
   "source": [
    "# COCO URLs\n",
    "coco_urls = {\n",
    "    \"train2017\": \"http://images.cocodataset.org/zips/train2017.zip\",\n",
    "    \"val2017\": \"http://images.cocodataset.org/zips/val2017.zip\",\n",
    "    \"test2017\": \"http://images.cocodataset.org/zips/test2017.zip\",\n",
    "    \"annotations\": \"http://images.cocodataset.org/annotations/annotations_trainval2017.zip\"\n",
    "}"
   ]
  },
  {
   "cell_type": "code",
   "execution_count": null,
   "id": "b795cdef-d11c-48b4-8fad-7d8b2a214619",
   "metadata": {},
   "outputs": [],
   "source": [
    "# Letöltés és kicsomagolás\n",
    "output_dir = \"data/coco\"\n",
    "for name, url in coco_urls.items():\n",
    "    download_and_extract(url, os.path.join(output_dir, name))"
   ]
  },
  {
   "cell_type": "markdown",
   "id": "fc2dd2c1-9303-4454-b456-525a4452f8ee",
   "metadata": {},
   "source": [
    "## Flickr30"
   ]
  },
  {
   "cell_type": "code",
   "execution_count": null,
   "id": "ef1579b9-e23e-40d3-b741-638a8f8aabc5",
   "metadata": {},
   "outputs": [],
   "source": [
    "# Download latest version\n",
    "flickr30k_source_directory = kagglehub.dataset_download(\"eeshawn/flickr30k\")\n",
    "\n",
    "print(\"Path to dataset files:\", flickr30k_source_directory)"
   ]
  },
  {
   "cell_type": "code",
   "execution_count": null,
   "id": "0c643ab7-d4d1-4ea8-860b-e829bf4b1e39",
   "metadata": {},
   "outputs": [],
   "source": [
    "flickr30k_target_directory = \"data/flickr30k\"\n",
    "os.makedirs(\"data/flickr30k\", exist_ok=True)"
   ]
  },
  {
   "cell_type": "code",
   "execution_count": null,
   "id": "7da71e3e-11a4-4384-8bc8-2e5108d3aafd",
   "metadata": {},
   "outputs": [],
   "source": [
    "flickr30k_source_directory, flickr30k_target_directory"
   ]
  },
  {
   "cell_type": "code",
   "execution_count": null,
   "id": "431dc15b-80c6-4317-b9d3-4af0ac3fb971",
   "metadata": {},
   "outputs": [],
   "source": [
    "for item in tqdm(os.listdir(flickr30k_source_directory)):\n",
    "    source_path = os.path.join(flickr30k_source_directory, item)\n",
    "    target_path = os.path.join(flickr30k_target_directory, item)\n",
    "\n",
    "    shutil.move(source_path, target_path)"
   ]
  },
  {
   "cell_type": "markdown",
   "id": "54a6c4c1-ca3b-42b3-9144-a2ea8024a64c",
   "metadata": {},
   "source": [
    "## CIFAR-10, CIFAR-100"
   ]
  },
  {
   "cell_type": "code",
   "execution_count": null,
   "id": "6d752478-a221-4327-bd6a-6a15cffa90bd",
   "metadata": {},
   "outputs": [],
   "source": [
    "cifar_target_dir = \"data/cifar\"\n",
    "os.makedirs(cifar_target_dir, exist_ok=True)"
   ]
  },
  {
   "cell_type": "code",
   "execution_count": null,
   "id": "59608c99-e319-476e-8369-daa287abdba2",
   "metadata": {},
   "outputs": [],
   "source": [
    "transform = transforms.Compose([\n",
    "    transforms.Resize((224, 224)),\n",
    "    transforms.ToTensor(),\n",
    "    transforms.Normalize(mean=[0.485, 0.456, 0.406], std=[0.229, 0.224, 0.225]),\n",
    "])"
   ]
  },
  {
   "cell_type": "code",
   "execution_count": null,
   "id": "4f5baca4-b08a-4d2d-a011-15b28abff38d",
   "metadata": {},
   "outputs": [],
   "source": [
    "cifar10 = datasets.CIFAR10(root=cifar_target_dir, train=False, download=True, transform=transform)"
   ]
  },
  {
   "cell_type": "code",
   "execution_count": null,
   "id": "7601ffad-606f-40cb-86a3-ce64c803e0fb",
   "metadata": {},
   "outputs": [],
   "source": [
    "cifar100 = datasets.CIFAR100(root=cifar_target_dir, train=False, download=True, transform=transform)"
   ]
  }
 ],
 "metadata": {
  "kernelspec": {
   "display_name": "Python [conda env:clip]",
   "language": "python",
   "name": "conda-env-clip-py"
  },
  "language_info": {
   "codemirror_mode": {
    "name": "ipython",
    "version": 3
   },
   "file_extension": ".py",
   "mimetype": "text/x-python",
   "name": "python",
   "nbconvert_exporter": "python",
   "pygments_lexer": "ipython3",
   "version": "3.10.15"
  }
 },
 "nbformat": 4,
 "nbformat_minor": 5
}
